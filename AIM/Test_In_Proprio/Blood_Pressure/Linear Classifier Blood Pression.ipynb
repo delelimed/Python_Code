{
 "cells": [
  {
   "cell_type": "markdown",
   "metadata": {},
   "source": [
    "# Blood Pression Checker\n",
    "\n",
    "Our goal is to build a linear classificator model to determinate if our patient suffers from Hypertension or Ipotension. For now, we will not discuss other typer of blood pression disease, like Systolic Isolated Hypertension"
   ]
  },
  {
   "cell_type": "markdown",
   "metadata": {},
   "source": [
    "## Dataset Preparation\n",
    "\n",
    "At first, we randomly generate a likely dataset of known patient. We use **np.random.normal** to create a gaussian distribution:\n",
    "_loc_ is the center of the curve, _scale_ is the deviance."
   ]
  },
  {
   "cell_type": "code",
   "execution_count": 8,
   "metadata": {},
   "outputs": [],
   "source": [
    "import numpy as np\n",
    "\n",
    "normal_bp = np.random.normal(loc=110, scale=10, size=(100, 1))\n",
    "normal_bp = np.concatenate((normal_bp, np.random.normal(loc=80, scale=10, size=(100, 1))), axis=1)"
   ]
  },
  {
   "cell_type": "code",
   "execution_count": 10,
   "metadata": {},
   "outputs": [],
   "source": [
    "low_bp = np.random.normal(loc=70, scale=10, size=(100, 1))\n",
    "low_bp = np.concatenate((low_bp, np.random.normal(loc=60, scale=10, size=(100, 1))), axis=1)"
   ]
  },
  {
   "cell_type": "code",
   "execution_count": 6,
   "metadata": {},
   "outputs": [],
   "source": [
    "hyper1_bp = np.random.normal(loc=150, scale=10, size=(100, 1))\n",
    "hyper1_bp = np.concatenate((hyper1_bp, np.random.normal(loc=110, scale=10, size=(100, 1))), axis=1)"
   ]
  },
  {
   "cell_type": "markdown",
   "metadata": {},
   "source": [
    "### Dataset Visualization\n",
    "\n",
    "Now we plot our data. Keep in mind that the X-axis is our Systolic Pressure, and Y-axis is Diastolic Pressure."
   ]
  },
  {
   "cell_type": "code",
   "execution_count": null,
   "metadata": {},
   "outputs": [],
   "source": [
    "import matplotlib.pyplot as plt\n",
    "\n",
    "plt.scatter(normal_bp[:, 0], normal_bp[:, 1], label='Normal BP')\n",
    "plt.scatter(low_bp[:, 0], low_bp[:, 1], label='Low BP')\n",
    "plt.scatter(hyper1_bp[:, 0], hyper1_bp[:, 1], label='Hyper1 BP')\n",
    "\n",
    "plt.xlabel('Systolic Pressure')\n",
    "plt.ylabel('Diastolic Pressure')\n",
    "plt.legend()\n",
    "\n",
    "plt.show()\n"
   ]
  },
  {
   "cell_type": "markdown",
   "metadata": {},
   "source": [
    "We have now a dataset of 300 patients, of which:\n",
    "- 100 of them are Hypertense\n",
    "- 100 of them are Ipotense\n",
    "- 100 of them are Normotense\n",
    "\n",
    "We now have to build our model."
   ]
  }
 ],
 "metadata": {
  "kernelspec": {
   "display_name": "Python 3",
   "language": "python",
   "name": "python3"
  },
  "language_info": {
   "codemirror_mode": {
    "name": "ipython",
    "version": 3
   },
   "file_extension": ".py",
   "mimetype": "text/x-python",
   "name": "python",
   "nbconvert_exporter": "python",
   "pygments_lexer": "ipython3",
   "version": "3.11.8"
  }
 },
 "nbformat": 4,
 "nbformat_minor": 2
}
