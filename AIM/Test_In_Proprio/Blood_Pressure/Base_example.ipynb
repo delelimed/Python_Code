{
 "cells": [
  {
   "cell_type": "markdown",
   "metadata": {},
   "source": [
    "# Blood Pression Checker\n",
    "L'obiettivo è quello di costruire un classificatore lineare per stabilire se il paziente soffre di ipertensione (non ci interessa il grado), ipotensione o se è normoteso. Vediamo poi come si comporta in caso di Ipertensione Sistolica Isolata."
   ]
  },
  {
   "cell_type": "markdown",
   "metadata": {},
   "source": [
    "## Dataset Preparation\n",
    "\n",
    "Per prima cosa, generiamo in modo randomico un dataset plausibile di pazienti, che in base a valori tabulati sappiamo essere normotesi, ipotesi o ipertesi.\n",
    "Sfruttiamo il **np.random.normal** per creare una distribuzione a gaussiana, e non \"a rettangolo\". In questo comando, _loc_ è il centro della campana, mentre _scale_ è di quanto il valore di allontana dal _loc_"
   ]
  },
  {
   "cell_type": "code",
   "execution_count": 27,
   "metadata": {},
   "outputs": [],
   "source": [
    "import numpy as np\n",
    "\n",
    "normal_bp = np.random.normal(loc=100, scale=10, size=(100, 1))\n",
    "normal_bp = np.concatenate((normal_bp, np.random.normal(loc=80, scale=10, size=(100, 1))), axis=1)"
   ]
  },
  {
   "cell_type": "code",
   "execution_count": 28,
   "metadata": {},
   "outputs": [],
   "source": [
    "low_bp = np.random.normal(loc=70, scale=10, size=(100, 1))\n",
    "low_bp = np.concatenate((low_bp, np.random.normal(loc=50, scale=10, size=(100, 1))), axis=1)"
   ]
  },
  {
   "cell_type": "code",
   "execution_count": 29,
   "metadata": {},
   "outputs": [],
   "source": [
    "hyper1_bp = np.random.normal(loc=150, scale=20, size=(100, 1))\n",
    "hyper1_bp = np.concatenate((hyper1_bp, np.random.normal(loc=110, scale=20, size=(100, 1))), axis=1)"
   ]
  },
  {
   "cell_type": "markdown",
   "metadata": {},
   "source": [
    "### Dataset Visualization\n",
    "\n",
    "Plottiamo ora i dati generati, mettendo sull'asse X la pressione sistolica, e sull'Y la pressione diastolica"
   ]
  },
  {
   "cell_type": "code",
   "execution_count": null,
   "metadata": {},
   "outputs": [],
   "source": [
    "import matplotlib.pyplot as plt\n",
    "\n",
    "plt.scatter(normal_bp[:, 0], normal_bp[:, 1], label='Normal BP')\n",
    "plt.scatter(low_bp[:, 0], low_bp[:, 1], label='Low BP')\n",
    "plt.scatter(hyper1_bp[:, 0], hyper1_bp[:, 1], label='Hyper1 BP')\n",
    "\n",
    "plt.xlabel('Systolic Pressure')\n",
    "plt.ylabel('Diastolic Pressure')\n",
    "plt.legend()\n",
    "\n",
    "plt.show()\n"
   ]
  },
  {
   "cell_type": "markdown",
   "metadata": {},
   "source": []
  }
 ],
 "metadata": {
  "kernelspec": {
   "display_name": "Python 3",
   "language": "python",
   "name": "python3"
  },
  "language_info": {
   "codemirror_mode": {
    "name": "ipython",
    "version": 3
   },
   "file_extension": ".py",
   "mimetype": "text/x-python",
   "name": "python",
   "nbconvert_exporter": "python",
   "pygments_lexer": "ipython3",
   "version": "3.11.8"
  }
 },
 "nbformat": 4,
 "nbformat_minor": 2
}
